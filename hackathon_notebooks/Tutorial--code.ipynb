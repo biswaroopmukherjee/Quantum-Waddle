{
 "cells": [
  {
   "cell_type": "markdown",
   "metadata": {},
   "source": [
    "## Discrete Time Quantum Walks\n",
    "\n",
    "### MIT iQuHACK 2020 | Team \"Quantum Waddle\"\n",
    "\n",
    "This work explores the implementation of discrete-time quantum walks on a 1D and 2D chain as described in [1] using IBM's quantum computing platform. A useful tutorial referenced here can be found at [2].\n",
    "\n",
    "### Contributors\n",
    "Biswaroop Mukherjee, Carsten Robens, Maya Reese, Lamia Ateshian, Yiqi Ni, Enrique Mendez"
   ]
  },
  {
   "cell_type": "markdown",
   "metadata": {},
   "source": [
    "### Introduction\n",
    "Classical random walks are used widely in graph searching and optimization, with many important applications in route planning, game playing, physics, and finance. This motivates researchers to look at the quantum analogue of a random walk, a quantum walk. \n",
    "\n",
    "A simple random walk example consists of a 1D chain whose nodes are enumerated by integer values and connected to its two adjacent neighbors. A random walker in position $i$ steps to either $i+1$ or $i-1$ depending on the outcome of a coin flip. \n",
    "\n",
    "In the quantum mechanical analogue, we consider evolution of position on a lattice conditioned on the spin state of a spin-1/2 system.\n",
    "\n",
    "<img src=\"random_walk.png\" width=700px>\n",
    "\n",
    "### Motivation\n",
    "[MOTIVATION HERE]\n",
    "\n",
    "### Quantum Walk on a Lattice\n",
    "\n",
    "The state of the system evolves with the application of two unitary operators:\n",
    "\n",
    "1. A coin flip operator\n",
    "2. A conditional shift operator\n",
    "\n",
    "The state of our system $\\vert \\Psi \\rangle$ is the product state of the coin and the position on the lattice\n",
    "$\\vert \\Psi \\rangle = \\vert s \\rangle \\otimes \\vert \\psi \\rangle$.\n",
    "\n",
    "Coin space: $\\vert s \\rangle \\in \\mathcal{H}_C = \\{ \\vert \\uparrow \\rangle, \\vert \\downarrow \\rangle \\}$\n",
    "\n",
    "Position space: $ \\vert \\psi \\rangle = \\mathcal{H}_P = \\{ \\sum_{i \\in Z} \\alpha_i \\vert i \\rangle \\} $\n",
    "\n",
    "#### Hadamard coin\n",
    "\n",
    "For a walk on a chain, the coin flip operator is a $2 \\times 2$ unitary matrix. A typical choice would be the Hadamard coin,\n",
    "\n",
    "$H = \\frac{1}{\\sqrt 2} \\begin{bmatrix} 1 & 1\\\\ 1 & -1 \\end{bmatrix}$\n",
    "\n",
    "#### Shift operator\n",
    "\n",
    "The shift operator S is a position translating operator conditioned on the coin as the control qubit. It increments the position by one if the particle is in the spin up state, and decrements by one if the particle is in the spin down state:\n",
    "\n",
    "$ S = \\sum_{i \\in Z} \\mid i + 1 \\rangle \\langle i \\mid \\otimes \\vert \\uparrow \\rangle \\langle \\uparrow \\vert + \\vert i - 1 \\rangle \\langle i \\vert \\otimes \\vert \\downarrow \\rangle \\langle \\downarrow \\vert $\n",
    "\n",
    "#### Single time step\n",
    "If the system is initialized in the state $\\vert \\Psi \\rangle = \\vert \\uparrow \\rangle \\otimes \\vert 0 \\rangle$,\n",
    "\n",
    "a single time step involves the application of a Hadamard coin flip\n",
    "\n",
    "$\\vert \\uparrow \\rangle \\otimes \\vert 0 \\rangle \\xrightarrow{H} \\frac{1}{\\sqrt 2} \\big( \\vert \\uparrow \\rangle + \\vert \\downarrow \\rangle \\big) \\otimes \\vert 0 \\rangle $\n",
    "\n",
    "followed by a conditional shift\n",
    "\n",
    "$ \\xrightarrow{S} \\frac{1}{\\sqrt 2} \\big( \\vert \\uparrow \\rangle \\otimes \\vert 1 \\rangle  + \\vert \\downarrow \\rangle \\otimes \\vert -1 \\rangle \\big) $"
   ]
  },
  {
   "cell_type": "markdown",
   "metadata": {},
   "source": [
    "### Quantum Cycle Graph\n",
    "\n",
    "A 1D cycle chain of 8 nodes is represented by the following figure:\n",
    "<img src=\"cycle_graph.png\" width=400px>\n",
    "\n",
    "A quantum walk on the cycle can be efficiently and straightforwardly implemented with a set of quantum gates consisting of Hadamard gates followed by conditional increment and decrement gates, which are described below."
   ]
  },
  {
   "cell_type": "code",
   "execution_count": 2,
   "metadata": {},
   "outputs": [],
   "source": [
    "import numpy as np\n",
    "from qiskit import *\n",
    "from qiskit.tools.visualization import plot_histogram, plot_state_city\n",
    "import matplotlib.pyplot as plt"
   ]
  },
  {
   "cell_type": "markdown",
   "metadata": {},
   "source": [
    "<h3><center>Increment Gate</center></h3>\n",
    "\n",
    "<img src=\"increment_gate.png\" width=\"auto\">\n",
    "\n",
    "<h3><center>Decrement Gate</center></h3>\n",
    "\n",
    "<img src=\"decrement_gate.png\" width=\"auto\">\n",
    "\n",
    "<h3><center>One time step of a Hadamard Walk</center></h3>\n",
    "<img src=\"1step.png\" width=\"auto\">\n"
   ]
  },
  {
   "cell_type": "markdown",
   "metadata": {},
   "source": [
    "<h3><center>1D Quantum Walk Circuit</center></h3>\n",
    "<img src=\"1d_circuit.png\" width=\"600px\">\n",
    "<h3><center>2D Quantum Walk Circuit</center></h3>\n",
    "<img src=\"2d_circuit.png\" width=\"600px\">"
   ]
  },
  {
   "cell_type": "code",
   "execution_count": 5,
   "metadata": {},
   "outputs": [],
   "source": [
    "# 1D Graph\n",
    "def increment_gate(circuit, qpos, qcoin):\n",
    "    n = len(qpos)\n",
    "    for i in range(n):\n",
    "        circuit.mct([qcoin[0]]+qpos[i+1:], qpos[i], None, mode='noancilla')\n",
    "        \n",
    "def decrement_gate(circuit, qpos, qcoin):\n",
    "    n = len(qpos)\n",
    "    circuit.x(qcoin[0])\n",
    "    for i in range(n):\n",
    "        if i+1 < n: circuit.x(qpos[i+1:])\n",
    "        circuit.mct([qcoin[0]]+qpos[i+1:], qpos[i], None, mode='noancilla')\n",
    "        if i+1 < n: circuit.x(qpos[i+1:])\n",
    "            \n",
    "def step(circuit, qpos, qcoin):\n",
    "    circuit.h(qcoin)\n",
    "    circuit.barrier()\n",
    "    increment_gate(circuit, qpos, qcoin)\n",
    "    circuit.barrier()\n",
    "    decrement_gate(circuit, qpos, qcoin)\n",
    "    circuit.barrier()"
   ]
  },
  {
   "cell_type": "code",
   "execution_count": 6,
   "metadata": {},
   "outputs": [
    {
     "data": {
      "image/png": "[encoded data removed]",
      "text/plain": [
       "<Figure size 911.428x264.88 with 1 Axes>"
      ]
     },
     "execution_count": 6,
     "metadata": {},
     "output_type": "execute_result"
    }
   ],
   "source": [
    "# Circuit drawing\n",
    "\n",
    "n=2\n",
    "\n",
    "qpos = QuantumRegister(n,'qc')\n",
    "qcoin = QuantumRegister(1,'qanc')\n",
    "cpos = ClassicalRegister(n,'cr')\n",
    "circuit = QuantumCircuit(qpos, qcoin, cpos)\n",
    "step(circuit, qpos, qcoin)\n",
    "# # Map the quantum measurement to the classical bits\n",
    "circuit.measure(qpos,cpos)\n",
    "\n",
    "circuit.draw(output='mpl')"
   ]
  },
  {
   "cell_type": "code",
   "execution_count": 21,
   "metadata": {},
   "outputs": [
    {
     "data": {
      "image/png": "[encoded data removed]",
      "text/plain": [
       "<Figure size 528.556x204.68 with 1 Axes>"
      ]
     },
     "execution_count": 21,
     "metadata": {},
     "output_type": "execute_result"
    }
   ],
   "source": [
    "n=3\n",
    "qpos = QuantumRegister(n,'qc')\n",
    "# increment\n",
    "def increment_only(circuit):\n",
    "    for i in range(n):\n",
    "        circuit.mct(qpos[i+1:], qpos[i], None, mode='noancilla')\n",
    "        circuit.barrier()\n",
    "    return circuit\n",
    "# decrement\n",
    "def decrement_only(circuit):\n",
    "    for i in range(n):\n",
    "        if i+1 < n: circuit.x(qpos[i+1:])\n",
    "        circuit.mct(qpos[i+1:], qpos[i], None, mode='noancilla')\n",
    "        if i+1 < n: circuit.x(qpos[i+1:])\n",
    "        circuit.barrier()\n",
    "            \n",
    "\n",
    "# Increment gate\n",
    "circuit = QuantumCircuit(qpos)\n",
    "increment_only(circuit)\n",
    "# increment_gate(circuit, qpos, qcoin)\n",
    "circuit.draw(output='mpl')"
   ]
  },
  {
   "cell_type": "code",
   "execution_count": 22,
   "metadata": {},
   "outputs": [
    {
     "data": {
      "image/png": "[encoded data removed]",
      "text/plain": [
       "<Figure size 769.356x204.68 with 1 Axes>"
      ]
     },
     "execution_count": 22,
     "metadata": {},
     "output_type": "execute_result"
    }
   ],
   "source": [
    "# Decrement gate\n",
    "circuit = QuantumCircuit(qpos)\n",
    "decrement_only(circuit)\n",
    "# decrement_gate(circuit, qpos, qcoin)\n",
    "circuit.draw(output='mpl')"
   ]
  },
  {
   "cell_type": "code",
   "execution_count": null,
   "metadata": {},
   "outputs": [],
   "source": []
  },
  {
   "cell_type": "markdown",
   "metadata": {},
   "source": [
    "## References\n",
    "[1] Douglas, B. L., & Wang, J. B. (2009). Efficient quantum circuit implementation of quantum walks. Physical Review A, 79(5), 052335.\n",
    "\n",
    "[2] Reitzner, D., Nagaj, D., & Buzek, V. (2012). Quantum walks. arXiv preprint arXiv:1207.7283.\n"
   ]
  },
  {
   "cell_type": "code",
   "execution_count": null,
   "metadata": {},
   "outputs": [],
   "source": []
  }
 ],
 "metadata": {
  "kernelspec": {
   "display_name": "Python 3",
   "language": "python",
   "name": "python3"
  },
  "language_info": {
   "codemirror_mode": {
    "name": "ipython",
    "version": 3
   },
   "file_extension": ".py",
   "mimetype": "text/x-python",
   "name": "python",
   "nbconvert_exporter": "python",
   "pygments_lexer": "ipython3",
   "version": "3.6.4"
  }
 },
 "nbformat": 4,
 "nbformat_minor": 4
}
