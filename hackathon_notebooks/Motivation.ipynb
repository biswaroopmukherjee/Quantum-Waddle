{
 "cells": [
  {
   "attachments": {},
   "cell_type": "markdown",
   "metadata": {},
   "source": [
    "# Motivation\n",
    "\n",
    "One primary motivation is to determine whether quantum computers are faster at solving problems than classical computers.\n",
    "\n",
    "Prior to 2003, exponential speedup was only demonstrated on algorithms that depended on the quantum Fourier transform. It's an interesting question to determine whether there is algorithmic variety in exponential speed up. It turns out that quantum walks can exhibit an exponential speed up[1]. \n",
    "\n",
    "In the paper[1] by Childs, *et al.*, they define the graph traversal problem. The idea is that if they implement graphs encoded via *so called* black box functions, they demonstrate that for certain complicated graphs, quantum walks can traverse the graph exponentially faster than any classical algorithm. \n",
    "\n",
    "Our desire was to implement a quantum walk in IBM's quantum computer, starting in particularly simple cases and then work our way up to the full fledged case. As determining actual circuit configurations in a real quantum computer is a non-trivial problem we followed the work given in [2].\n",
    "\n",
    "\n",
    "# Citations\n",
    "[1]: A. M. Childs, et al. Exponential Algorithmic Speedup by a Quantum Walk\n",
    "\n",
    "[2]: https://arxiv.org/pdf/0706.0304.pdf"
   ]
  }
 ],
 "metadata": {
  "kernelspec": {
   "display_name": "Python 3",
   "language": "python",
   "name": "python3"
  },
  "language_info": {
   "codemirror_mode": {
    "name": "ipython",
    "version": 3
   },
   "file_extension": ".py",
   "mimetype": "text/x-python",
   "name": "python",
   "nbconvert_exporter": "python",
   "pygments_lexer": "ipython3",
   "version": "3.7.4"
  }
 },
 "nbformat": 4,
 "nbformat_minor": 2
}
