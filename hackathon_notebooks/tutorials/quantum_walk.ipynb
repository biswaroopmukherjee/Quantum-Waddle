{
 "cells": [
  {
   "cell_type": "markdown",
   "metadata": {
    "colab": {},
    "colab_type": "code",
    "id": "yWabJ-GfTENP"
   },
   "source": [
    "<img src=\"https://raw.githubusercontent.com/Qiskit/qiskit-tutorials/master/images/qiskit-heading.png\" alt=\"Note: In order for images to show up in this jupyter notebook you need to select File => Trusted Notebook\" width=\"500 px\" align=\"left\">"
   ]
  },
  {
   "cell_type": "markdown",
   "metadata": {},
   "source": [
    "# Implementation of Quantum Walks on Cycle Graph\n",
    "This notebook is based on the paper of  B L Douglas and J B Wang, \"Efficient quantum circuit implementation of quantum walks\", arXiv:0706.0304 [quant-ph].\n",
    "\n",
    "***\n",
    "### Contributors\n",
    "Jordan Kemp (University of Chicago), Shin Nishio (Keio University), Ryosuke Satoh (Keio University), Desiree Vogt-Lee (University of Queensland), and Tanisha Bassan (The  Knowledge Society)\n",
    "\n",
    "### Qiskit Package Versions"
   ]
  },
  {
   "cell_type": "code",
   "execution_count": 1,
   "metadata": {},
   "outputs": [
    {
     "data": {
      "text/plain": [
       "{'qiskit-terra': '0.11.1',\n",
       " 'qiskit-aer': '0.3.4',\n",
       " 'qiskit-ignis': '0.2.0',\n",
       " 'qiskit-ibmq-provider': '0.4.5',\n",
       " 'qiskit-aqua': '0.6.2',\n",
       " 'qiskit': '0.14.1'}"
      ]
     },
     "execution_count": 1,
     "metadata": {},
     "output_type": "execute_result"
    }
   ],
   "source": [
    "import qiskit\n",
    "qiskit.__qiskit_version__"
   ]
  },
  {
   "cell_type": "markdown",
   "metadata": {},
   "source": [
    "## Introduction\n",
    "\n",
    "There are many different types of quantum walks: a walker can walk on n-dimensional space or any limited graphs. First we will talk about the concept and dynamics of the quantum random walk and then show the implementation of a quantum walk on cycle graph."
   ]
  },
  {
   "cell_type": "markdown",
   "metadata": {},
   "source": [
    "## Random walk \n",
    "A random walk is a dynamical path with a randomly evolving time system. The figure below shows a simple type of random walk. "
   ]
  },
  {
   "cell_type": "markdown",
   "metadata": {},
   "source": [
    "<img src=\"../images/quantum_walk/random_walk.png\" alt=\"Note: In order for images to show up in this jupyter notebook you need to select File => Trusted Notebook\" width=\"500 px\" align=\"center\">"
   ]
  },
  {
   "cell_type": "markdown",
   "metadata": {},
   "source": [
    "The dynamics can be regarded as a simple algorithm:\n",
    "1. There is a $n$-dimensional space (in this case, one for simplicity) and a walker which starts at the point $x=0$\n",
    "2. The walker then takes a step either forwards (towards $+x$) or backwards (towards $-x$) \n",
    "\n",
    "In the second step, the choice is made randomly (eg. a coin-flip). We can call this the \"Coin Operator\". \n",
    "\n",
    "For this system: $p+q = 1$."
   ]
  },
  {
   "cell_type": "markdown",
   "metadata": {},
   "source": [
    "## Quantum Walk \n",
    "A quantum walk is the \"quantum version\" of a classical random walk. This means the coin function will be a Unitary gate ($U(2)$) which is non-random and reversible:\n",
    "\n",
    "$$p+q = U \\in U(2)$$\n",
    "\n",
    "In this notebook, we use a Hadamard gate for executing the coin function since it puts our qubits in a state of superposition, allowing for the  simulation of a coin based probability:\n",
    "\n",
    "$$H=\\frac{1}{\\sqrt{2}}\\left [{\\begin{array}{rr}1 & 1 \\\\ 1 & -1\\\\ \\end{array}}\\right]$$\n",
    "\n",
    "There are two kinds of random walks, continuous and discrete, and in this notebook we will use the discrete framework. In the discrete, unitary operations are made of coin and shift operators $U = SC$ which work in a state space.\n",
    "\n",
    "It is represented by an arbitrary undirected graph $G(V,E)$ where $V = {v_1, v_2, ..v_n}$ as nodes on the graph and $E = {(v_x, v_y) , ( v_i, v_j) …}$ as edges that combine different nodes together.\n",
    "\n",
    "The quantum walk extends into a position space where each node $v_i$ has a certain valency $d_i$ and is split into $d_i$ subnodes. The shifting operator then acts as $S (v_i, a_i) = (v_j, a_j)$ and with the coin operator, are unitary gates which combine the probability amplitudes with individual subnodes under each node.\n",
    "\n",
    "A unitary of $v_i$ with valency $d_i$ can be represented as $(d_i \\times d_i)$. The total state of system is defined by the Hilbert space \n",
    "\n",
    "$$H = H_c + H_p$$ \n",
    "\n",
    "Where $H_C$ is the coin Hilbert space and $H_P$ is the position Hilbert space. "
   ]
  },
  {
   "cell_type": "markdown",
   "metadata": {},
   "source": [
    "## The Coin Operator \n",
    "The first operation in a quantum random walk is the coin operator. The operator works by performing an arbitrary unitary transformation in the coin space which creates a rotation similar to “coin-flip” in random walk. This is namely the Hadamard gate, which models a balanced unitary coin. "
   ]
  },
  {
   "cell_type": "markdown",
   "metadata": {},
   "source": [
    "The coin register will continue interfering with its position state until it is measured, after all intermediate steps. The results are very different from random walks as it doesn’t converge to a Gaussian distribution, but rather evolves into an asymmetric probability distribution. This happens because the Hadamard coin operator treats each basis vectors, |↑> and |↓> , differently. \n",
    "\n",
    "The rightwards path interferes more destructively as it is multiplied by -1, however, the leftwards path undergoes more constructive interference and the system tends to take steps towards the left. To reach symmetric results, both base vectors will start in a superposition of states (between  |↑> and |↓>). Another way to reach symmetry is use a different coin operator which doesn’t bias the coin towards a certain base vector, such as the Y gate:\n",
    "\n",
    "$$Y=\\frac{1}{\\sqrt{2}}\\left [{\\begin{array}{rr}1 & i \\\\ i & 1\\\\ \\end{array}}\\right]$$"
   ]
  },
  {
   "cell_type": "markdown",
   "metadata": {},
   "source": [
    "## Quantum Walk on the Cycle Graph\n",
    "\n",
    "The goal of this notebook is to conduct a quantum random walk on circular graph which can be efficiently and simply implemented on the quantum circuit. The graph has 8 nodes with 2 attached edges which act as the subnodes on the circuit. "
   ]
  },
  {
   "cell_type": "markdown",
   "metadata": {},
   "source": [
    "<img src=\"../images/quantum_walk/8_white.jpg\" alt=\"Note: In order for images to show up in this jupyter notebook you need to select File => Trusted Notebook\" width=\"350 px\" align=\"center\">"
   ]
  },
  {
   "cell_type": "markdown",
   "metadata": {},
   "source": [
    "The operations propagate systemically around the graph as each node is a seperate bit-string value in lexicographic order. For a 2n graph, n qubits are required to encode the problem and 1 ancilla qubit is required for the subnode (coin). "
   ]
  },
  {
   "cell_type": "markdown",
   "metadata": {},
   "source": [
    "<img src=\"../images/quantum_walk/whole_circuit.jpg\" alt=\"Note: In order for images to show up in this jupyter notebook you need to select File => Trusted Notebook\" width=\"700 px\" align=\"center\">"
   ]
  },
  {
   "cell_type": "markdown",
   "metadata": {},
   "source": [
    "The above circuit shows the whole process of the quantum walk on a cycle graph with $2^3$ nodes. \n",
    "\n",
    "The gray rectangular frame outlines a set of coin operators and shift operators. \n",
    "\n",
    "In this circuit, q[0] to q[2] represent the state (position) of quantum walker, and q[3] represents the coin operator.\n",
    "\n",
    "In this style, a programmer can insert the initial position of walker as a 3-qubit state. For example, if the input is $110$, then the position is $6$ (see the earlier cycle graph). \n",
    "\n",
    "The coin operator decides whether the walker proceeds clockwise or counterclockwise.\n",
    "\n",
    "INC is a gate that increments the state of the walker which is equal to a clockwise rotation in the cycle graph. \n",
    "\n",
    "DEC is gate that decrements the state of the walker which is equal to a counterclockwise rotation in cycle graph.\n",
    "\n",
    "After repeatedly executing the coin operator and the shift operator, we can measure the qubits (excluding the ancilla coin qubit), and it is then possible to know the position of the walker."
   ]
  },
  {
   "cell_type": "markdown",
   "metadata": {},
   "source": [
    "## $n$-qubit Toffoli\n",
    "\n",
    "The Toffoli gate is a CCNOT(CCX) gate. By using the Toffoli gate, X gates executed on Q2 if Q0 and Q1 is equal to 1.\n",
    "\n",
    "In our quantum walk implementation, we need more connections to expand the quantum walk implementation."
   ]
  },
  {
   "cell_type": "markdown",
   "metadata": {},
   "source": [
    "<img src=\"../images/quantum_walk/toffoli.png\" alt=\"Note: In order for images to show up in this jupyter notebook you need to select File => Trusted Notebook\" align=\"center\">"
   ]
  },
  {
   "cell_type": "markdown",
   "metadata": {},
   "source": [
    "For example, CCX can be written as in the below circuit by using only the available gate sets of the IBMQ devices.\n",
    "\n",
    "Therefore, for more than 4 qubits, we can implement many qubits of CX gate (\"C$N$X gate\") using this method. Reference shown [here](\"https://journals.aps.org/pra/abstract/10.1103/PhysRevA.52.3457\")."
   ]
  },
  {
   "cell_type": "markdown",
   "metadata": {},
   "source": [
    "<img src=\"../images/quantum_walk/implement_toffoli.png\" alt=\"Note: In order for images to show up in this jupyter notebook you need to select File => Trusted Notebook\" align=\"center\">"
   ]
  },
  {
   "cell_type": "markdown",
   "metadata": {},
   "source": [
    "C$N$X can be represented using C($N-1$)X as shown."
   ]
  },
  {
   "cell_type": "code",
   "execution_count": 3,
   "metadata": {},
   "outputs": [],
   "source": [
    "def cnx(qc, *qubits):\n",
    "    if len(qubits) >= 3:\n",
    "        last = qubits[-1]\n",
    "        # A matrix: (made up of a  and Y rotation, lemma4.3)\n",
    "        qc.crz(np.pi/2, qubits[-2], qubits[-1])\n",
    "        qc.cu3(np.pi/2, 0, 0, qubits[-2],qubits[-1])\n",
    "        \n",
    "        # Control not gate\n",
    "        cnx(qc,*qubits[:-2],qubits[-1])\n",
    "        \n",
    "        # B matrix (pposite angle)\n",
    "        qc.cu3(-np.pi/2, 0, 0, qubits[-2], qubits[-1])\n",
    "        \n",
    "        # Control\n",
    "        cnx(qc,*qubits[:-2],qubits[-1])\n",
    "        \n",
    "        # C matrix (final rotation)\n",
    "        qc.crz(-np.pi/2,qubits[-2],qubits[-1])\n",
    "    elif len(qubits)==3:\n",
    "        qc.ccx(*qubits)\n",
    "    elif len(qubits)==2:\n",
    "        qc.cx(*qubits)"
   ]
  },
  {
   "cell_type": "markdown",
   "metadata": {},
   "source": [
    "We then need to decide the number of qubits $n$ to represent the walker's state (the whole circuit requires $n+1$ qubits)."
   ]
  },
  {
   "cell_type": "code",
   "execution_count": 9,
   "metadata": {
    "colab": {},
    "colab_type": "code",
    "id": "lHI4G7fgT9Wn"
   },
   "outputs": [],
   "source": [
    "import numpy as np\n",
    "from qiskit import IBMQ, QuantumCircuit, ClassicalRegister, QuantumRegister, execute\n",
    "from qiskit.tools.visualization import plot_histogram, plot_state_city\n",
    "\n",
    "n=3"
   ]
  },
  {
   "cell_type": "code",
   "execution_count": 10,
   "metadata": {
    "colab": {
     "base_uri": "https://localhost:8080/",
     "height": 85
    },
    "colab_type": "code",
    "id": "kLSxVQxerGyo",
    "outputId": "b319f1d1-b5aa-4113-e12b-eecbf993a362"
   },
   "outputs": [
    {
     "ename": "AttributeError",
     "evalue": "'IBMQFactory' object has no attribute 'load_accounts'",
     "output_type": "error",
     "traceback": [
      "\u001b[0;31m---------------------------------------------------------------------------\u001b[0m",
      "\u001b[0;31mAttributeError\u001b[0m                            Traceback (most recent call last)",
      "\u001b[0;32m<ipython-input-10-32e546b4dd2f>\u001b[0m in \u001b[0;36m<module>\u001b[0;34m\u001b[0m\n\u001b[0;32m----> 1\u001b[0;31m \u001b[0mIBMQ\u001b[0m\u001b[0;34m.\u001b[0m\u001b[0mload_accounts\u001b[0m\u001b[0;34m(\u001b[0m\u001b[0;34m)\u001b[0m\u001b[0;34m\u001b[0m\u001b[0;34m\u001b[0m\u001b[0m\n\u001b[0m\u001b[1;32m      2\u001b[0m \u001b[0mIBMQ\u001b[0m\u001b[0;34m.\u001b[0m\u001b[0mbackends\u001b[0m\u001b[0;34m(\u001b[0m\u001b[0;34m)\u001b[0m\u001b[0;34m\u001b[0m\u001b[0;34m\u001b[0m\u001b[0m\n",
      "\u001b[0;31mAttributeError\u001b[0m: 'IBMQFactory' object has no attribute 'load_accounts'"
     ]
    }
   ],
   "source": [
    "IBMQ.load_accounts()\n",
    "IBMQ.backends()"
   ]
  },
  {
   "cell_type": "markdown",
   "metadata": {},
   "source": [
    "We then need to execute the increment and decrement gate in order for the shift operator to walk, including the C$N$X gates which changes the position of the walker based on the coin operator."
   ]
  },
  {
   "cell_type": "code",
   "execution_count": 11,
   "metadata": {
    "colab": {},
    "colab_type": "code",
    "id": "ysx7VXO2a95V"
   },
   "outputs": [],
   "source": [
    "def increment_gate(qwc, q, subnode):\n",
    "  \n",
    "    cnx(qwc, subnode[0], q[2], q[1], q[0])\n",
    "    cnx(qwc, subnode[0], q[2], q[1])\n",
    "    cnx(qwc, subnode[0], q[2])\n",
    "    qwc.barrier()\n",
    "    return qwc\n",
    "\n",
    "def decrement_gate(qwc, q, subnode):\n",
    "  \n",
    "    qwc.x(subnode[0])\n",
    "    qwc.x(q[2])\n",
    "    qwc.x(q[1])\n",
    "    cnx(qwc, subnode[0], q[2], q[1], q[0])\n",
    "    qwc.x(q[1])\n",
    "    cnx(qwc, subnode[0], q[2], q[1])\n",
    "    qwc.x(q[2])\n",
    "    cnx(qwc, subnode[0], q[2])\n",
    "    qwc.x(subnode[0])\n",
    "    return qwc\n",
    "  \n",
    "def ibmsim(circ):\n",
    "    ibmqBE = IBMQ.get_backend('ibmq_qasm_simulator')\n",
    "    return execute(circ,ibmqBE, shots=1000).result().get_counts(circ)  "
   ]
  },
  {
   "cell_type": "markdown",
   "metadata": {},
   "source": [
    "Rerun the coin and shift operators for n number of steps (in this case 15)."
   ]
  },
  {
   "cell_type": "code",
   "execution_count": 12,
   "metadata": {
    "colab": {
     "base_uri": "https://localhost:8080/",
     "height": 408
    },
    "colab_type": "code",
    "id": "PUUoi5T69zvX",
    "outputId": "11b916d3-4cc9-40d2-9017-dc072de02630"
   },
   "outputs": [
    {
     "ename": "TypeError",
     "evalue": "'Qubit' object is not subscriptable",
     "output_type": "error",
     "traceback": [
      "\u001b[0;31m---------------------------------------------------------------------------\u001b[0m",
      "\u001b[0;31mTypeError\u001b[0m                                 Traceback (most recent call last)",
      "\u001b[0;32m<ipython-input-12-cfd124717163>\u001b[0m in \u001b[0;36m<module>\u001b[0;34m\u001b[0m\n\u001b[1;32m     19\u001b[0m \u001b[0;34m\u001b[0m\u001b[0m\n\u001b[1;32m     20\u001b[0m \u001b[0mstep\u001b[0m \u001b[0;34m=\u001b[0m \u001b[0;36m1\u001b[0m\u001b[0;34m\u001b[0m\u001b[0;34m\u001b[0m\u001b[0m\n\u001b[0;32m---> 21\u001b[0;31m \u001b[0mqwc\u001b[0m \u001b[0;34m=\u001b[0m \u001b[0mrunQWC\u001b[0m\u001b[0;34m(\u001b[0m\u001b[0mqwc\u001b[0m\u001b[0;34m,\u001b[0m \u001b[0mstep\u001b[0m\u001b[0;34m)\u001b[0m\u001b[0;34m\u001b[0m\u001b[0;34m\u001b[0m\u001b[0m\n\u001b[0m\u001b[1;32m     22\u001b[0m \u001b[0mqwc\u001b[0m\u001b[0;34m.\u001b[0m\u001b[0mdraw\u001b[0m\u001b[0;34m(\u001b[0m\u001b[0moutput\u001b[0m\u001b[0;34m=\u001b[0m\u001b[0;34m\"mpl\"\u001b[0m\u001b[0;34m)\u001b[0m\u001b[0;34m\u001b[0m\u001b[0;34m\u001b[0m\u001b[0m\n\u001b[1;32m     23\u001b[0m \u001b[0mresult\u001b[0m \u001b[0;34m=\u001b[0m \u001b[0mibmsim\u001b[0m\u001b[0;34m(\u001b[0m\u001b[0mqwc\u001b[0m\u001b[0;34m)\u001b[0m\u001b[0;34m\u001b[0m\u001b[0;34m\u001b[0m\u001b[0m\n",
      "\u001b[0;32m<ipython-input-12-cfd124717163>\u001b[0m in \u001b[0;36mrunQWC\u001b[0;34m(qwc, times)\u001b[0m\n\u001b[1;32m     10\u001b[0m     \u001b[0;32mfor\u001b[0m \u001b[0mi\u001b[0m \u001b[0;32min\u001b[0m \u001b[0mrange\u001b[0m\u001b[0;34m(\u001b[0m\u001b[0mtimes\u001b[0m\u001b[0;34m)\u001b[0m\u001b[0;34m:\u001b[0m\u001b[0;34m\u001b[0m\u001b[0;34m\u001b[0m\u001b[0m\n\u001b[1;32m     11\u001b[0m         \u001b[0mqwc\u001b[0m\u001b[0;34m.\u001b[0m\u001b[0mh\u001b[0m\u001b[0;34m(\u001b[0m\u001b[0mqsubnodes\u001b[0m\u001b[0;34m[\u001b[0m\u001b[0;36m0\u001b[0m\u001b[0;34m]\u001b[0m\u001b[0;34m)\u001b[0m\u001b[0;34m\u001b[0m\u001b[0;34m\u001b[0m\u001b[0m\n\u001b[0;32m---> 12\u001b[0;31m         \u001b[0mincrement_gate\u001b[0m\u001b[0;34m(\u001b[0m\u001b[0mqwc\u001b[0m\u001b[0;34m,\u001b[0m \u001b[0mqnodes\u001b[0m\u001b[0;34m,\u001b[0m \u001b[0mqsubnodes\u001b[0m\u001b[0;34m[\u001b[0m\u001b[0;36m0\u001b[0m\u001b[0;34m]\u001b[0m\u001b[0;34m)\u001b[0m\u001b[0;34m\u001b[0m\u001b[0;34m\u001b[0m\u001b[0m\n\u001b[0m\u001b[1;32m     13\u001b[0m         \u001b[0mdecrement_gate\u001b[0m\u001b[0;34m(\u001b[0m\u001b[0mqwc\u001b[0m\u001b[0;34m,\u001b[0m\u001b[0mqnodes\u001b[0m\u001b[0;34m,\u001b[0m\u001b[0mqsubnodes\u001b[0m\u001b[0;34m[\u001b[0m\u001b[0;36m0\u001b[0m\u001b[0;34m]\u001b[0m\u001b[0;34m)\u001b[0m\u001b[0;34m\u001b[0m\u001b[0;34m\u001b[0m\u001b[0m\n\u001b[1;32m     14\u001b[0m         \u001b[0mqwc\u001b[0m\u001b[0;34m.\u001b[0m\u001b[0mmeasure\u001b[0m\u001b[0;34m(\u001b[0m\u001b[0mqnodes\u001b[0m\u001b[0;34m,\u001b[0m \u001b[0mcnodes\u001b[0m\u001b[0;34m)\u001b[0m\u001b[0;34m\u001b[0m\u001b[0;34m\u001b[0m\u001b[0m\n",
      "\u001b[0;32m<ipython-input-11-46caabb551d2>\u001b[0m in \u001b[0;36mincrement_gate\u001b[0;34m(qwc, q, subnode)\u001b[0m\n\u001b[1;32m      1\u001b[0m \u001b[0;32mdef\u001b[0m \u001b[0mincrement_gate\u001b[0m\u001b[0;34m(\u001b[0m\u001b[0mqwc\u001b[0m\u001b[0;34m,\u001b[0m \u001b[0mq\u001b[0m\u001b[0;34m,\u001b[0m \u001b[0msubnode\u001b[0m\u001b[0;34m)\u001b[0m\u001b[0;34m:\u001b[0m\u001b[0;34m\u001b[0m\u001b[0;34m\u001b[0m\u001b[0m\n\u001b[1;32m      2\u001b[0m \u001b[0;34m\u001b[0m\u001b[0m\n\u001b[0;32m----> 3\u001b[0;31m     \u001b[0mcnx\u001b[0m\u001b[0;34m(\u001b[0m\u001b[0mqwc\u001b[0m\u001b[0;34m,\u001b[0m \u001b[0msubnode\u001b[0m\u001b[0;34m[\u001b[0m\u001b[0;36m0\u001b[0m\u001b[0;34m]\u001b[0m\u001b[0;34m,\u001b[0m \u001b[0mq\u001b[0m\u001b[0;34m[\u001b[0m\u001b[0;36m2\u001b[0m\u001b[0;34m]\u001b[0m\u001b[0;34m,\u001b[0m \u001b[0mq\u001b[0m\u001b[0;34m[\u001b[0m\u001b[0;36m1\u001b[0m\u001b[0;34m]\u001b[0m\u001b[0;34m,\u001b[0m \u001b[0mq\u001b[0m\u001b[0;34m[\u001b[0m\u001b[0;36m0\u001b[0m\u001b[0;34m]\u001b[0m\u001b[0;34m)\u001b[0m\u001b[0;34m\u001b[0m\u001b[0;34m\u001b[0m\u001b[0m\n\u001b[0m\u001b[1;32m      4\u001b[0m     \u001b[0mcnx\u001b[0m\u001b[0;34m(\u001b[0m\u001b[0mqwc\u001b[0m\u001b[0;34m,\u001b[0m \u001b[0msubnode\u001b[0m\u001b[0;34m[\u001b[0m\u001b[0;36m0\u001b[0m\u001b[0;34m]\u001b[0m\u001b[0;34m,\u001b[0m \u001b[0mq\u001b[0m\u001b[0;34m[\u001b[0m\u001b[0;36m2\u001b[0m\u001b[0;34m]\u001b[0m\u001b[0;34m,\u001b[0m \u001b[0mq\u001b[0m\u001b[0;34m[\u001b[0m\u001b[0;36m1\u001b[0m\u001b[0;34m]\u001b[0m\u001b[0;34m)\u001b[0m\u001b[0;34m\u001b[0m\u001b[0;34m\u001b[0m\u001b[0m\n\u001b[1;32m      5\u001b[0m     \u001b[0mcnx\u001b[0m\u001b[0;34m(\u001b[0m\u001b[0mqwc\u001b[0m\u001b[0;34m,\u001b[0m \u001b[0msubnode\u001b[0m\u001b[0;34m[\u001b[0m\u001b[0;36m0\u001b[0m\u001b[0;34m]\u001b[0m\u001b[0;34m,\u001b[0m \u001b[0mq\u001b[0m\u001b[0;34m[\u001b[0m\u001b[0;36m2\u001b[0m\u001b[0;34m]\u001b[0m\u001b[0;34m)\u001b[0m\u001b[0;34m\u001b[0m\u001b[0;34m\u001b[0m\u001b[0m\n",
      "\u001b[0;31mTypeError\u001b[0m: 'Qubit' object is not subscriptable"
     ]
    }
   ],
   "source": [
    "qnodes = QuantumRegister(n,'qc')\n",
    "qsubnodes = QuantumRegister(1,'qanc')\n",
    "csubnodes = ClassicalRegister(1,'canc')\n",
    "cnodes = ClassicalRegister(n,'cr')\n",
    "\n",
    "qwc = QuantumCircuit(qnodes, qsubnodes, cnodes, csubnodes)\n",
    "\n",
    "\n",
    "def runQWC(qwc, times):\n",
    "    for i in range(times):\n",
    "        qwc.h(qsubnodes[0])\n",
    "        increment_gate(qwc, qnodes, qsubnodes[0])\n",
    "        decrement_gate(qwc,qnodes,qsubnodes[0])\n",
    "        qwc.measure(qnodes, cnodes)\n",
    "\n",
    "    return qwc\n",
    "\n",
    "import matplotlib as mpl\n",
    "\n",
    "step = 1\n",
    "qwc = runQWC(qwc, step)\n",
    "qwc.draw(output=\"mpl\")\n",
    "result = ibmsim(qwc)\n",
    "\n",
    "print(result)"
   ]
  },
  {
   "cell_type": "code",
   "execution_count": 7,
   "metadata": {
    "colab": {},
    "colab_type": "code",
    "id": "LprBkgB9AGVr"
   },
   "outputs": [],
   "source": [
    "def runQWC(qwc, times):\n",
    "    for i in range(times):\n",
    "        qwc.h(qsubnodes[0])\n",
    "        increment_gate(qwc, qnodes, qsubnodes[0])\n",
    "        decrement_gate(qwc,qnodes,qsubnodes[0])\n",
    "        qwc.measure(qnodes, cnodes)\n",
    "\n",
    "    return qwc"
   ]
  },
  {
   "cell_type": "markdown",
   "metadata": {},
   "source": [
    "The first qubit which is always 0, is the coin qubit.\n",
    "The second to fourth, is the position of the walker (binary).\n",
    "The distribution can be seen using plot_histogram."
   ]
  },
  {
   "cell_type": "code",
   "execution_count": 8,
   "metadata": {},
   "outputs": [
    {
     "data": {
      "image/png": "[encoded data removed]",
      "text/plain": [
       "<Figure size 504x360 with 1 Axes>"
      ]
     },
     "execution_count": 8,
     "metadata": {},
     "output_type": "execute_result"
    }
   ],
   "source": [
    "result = ibmsim(qwc)\n",
    "plot_histogram(result)"
   ]
  },
  {
   "cell_type": "markdown",
   "metadata": {},
   "source": [
    "## Results\n",
    "\n",
    "The following animation is what the quantum walk looks like over its 19 iterations. The size of each node represents probability of the quantum walker existing in that position. "
   ]
  },
  {
   "cell_type": "markdown",
   "metadata": {},
   "source": [
    "<img src=\"../images/quantum_walk/fast.gif\" alt=\"Note: In order for images to show up in this jupyter notebook you need to select File => Trusted Notebook\" align=\"center\">"
   ]
  },
  {
   "cell_type": "markdown",
   "metadata": {},
   "source": [
    "## Required Resources\n",
    "\n",
    "In this  algorithm, we needed $n+1$ qubits for a cycle graph with $2^n$ nodes. As you can see in the following graph, the time complexity increases linearly. This is the result of relation between execution time on 'qasm_simulator' and the number of steps."
   ]
  },
  {
   "cell_type": "markdown",
   "metadata": {},
   "source": [
    "<img src=\"../images/quantum_walk/executiontime.png\" alt=\"Note: In order for images to show up in this jupyter notebook you need to select File => Trusted Notebook\" align=\"center\">"
   ]
  },
  {
   "cell_type": "markdown",
   "metadata": {},
   "source": [
    "## Discussion about Future Work and Applications\n",
    "_Expansion of number of nodes on graph_ \n",
    "\n",
    "The walk implemented in this project required 3 qubits for 8 nodes plus an additional 1 qubit for the coin operator. The total time for iterating through coin and shift operator was 16 seconds for 100 flips. \n",
    "\n",
    "An example of a real world problem that can be solved using quantum random walks is the mapping of enzymes to understand their evolution when in contact with mutagens. This problem only requires 33 nodes which can be mapped out on 7 qubit circuit. This increase in qubits would increase the total time to 49 seconds for 100 flips. This is a scalable model which can continue to grow to map more complex graphs to problems. \n",
    "\n",
    "The time complexity for the quantum simulator approximately follows $({\\frac{m+1}{n+1}})^2$ if the number of nodes becomes $2^m$ from $2^n$. This value is based on number of qubits and is roughly estimated. \n",
    "\n",
    "## Conclusion\n",
    "In this notebook we showed the basics of the quantum random walk and its implementation on a cyclic quantum circuit.\n",
    "\n",
    "The implemented algorithm requires $n+1$ qubits for any cycle graph with $2^n$ nodes. "
   ]
  },
  {
   "cell_type": "code",
   "execution_count": null,
   "metadata": {},
   "outputs": [],
   "source": []
  }
 ],
 "metadata": {
  "colab": {
   "collapsed_sections": [],
   "name": "quantum_walk.ipynb",
   "provenance": [],
   "version": "0.3.2"
  },
  "kernelspec": {
   "display_name": "Python 3",
   "language": "python",
   "name": "python3"
  },
  "language_info": {
   "codemirror_mode": {
    "name": "ipython",
    "version": 3
   },
   "file_extension": ".py",
   "mimetype": "text/x-python",
   "name": "python",
   "nbconvert_exporter": "python",
   "pygments_lexer": "ipython3",
   "version": "3.7.6"
  }
 },
 "nbformat": 4,
 "nbformat_minor": 2
}
