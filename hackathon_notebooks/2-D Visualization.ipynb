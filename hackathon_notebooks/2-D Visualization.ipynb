{
 "cells": [
  {
   "cell_type": "code",
   "execution_count": 1,
   "metadata": {},
   "outputs": [],
   "source": [
    "import numpy as np\n",
    "import time\n",
    "import networkx as nx\n",
    "import matplotlib.pyplot as plt\n",
    "import random\n",
    "from qiskit import (QuantumCircuit, QuantumRegister, ClassicalRegister, execute, Aer)\n",
    "%matplotlib qt"
   ]
  },
  {
   "cell_type": "code",
   "execution_count": 2,
   "metadata": {},
   "outputs": [
    {
     "name": "stdout",
     "output_type": "stream",
     "text": [
      "pyqt5\n"
     ]
    }
   ],
   "source": [
    "import os\n",
    "print(os.environ.get('QT_API'))"
   ]
  },
  {
   "cell_type": "code",
   "execution_count": 3,
   "metadata": {},
   "outputs": [],
   "source": [
    "n=3\n",
    "steps = 8"
   ]
  },
  {
   "cell_type": "code",
   "execution_count": 4,
   "metadata": {},
   "outputs": [],
   "source": [
    "def counts_to_prob_2d(counts):\n",
    "    states = list(counts.keys())\n",
    "    state_counts = list(counts.values())\n",
    "    nshots = sum(state_counts)\n",
    "    n = int(len(states[0])/2)\n",
    "    def sep_xy(states):\n",
    "        # Separate x and y coordinates in state vector\n",
    "        states_x = [s[:n] for s in states]\n",
    "        states_y = [s[n:] for s in states]\n",
    "        states_x = np.array([int(s[::-1],2) for s in states_x])\n",
    "        states_y = np.array([int(s[::-1],2) for s in states_y])\n",
    "        return states_x, states_y\n",
    "    x,y = sep_xy(states)\n",
    "    # Create array of probability values\n",
    "    probabilities = np.zeros((2**n,2**n))\n",
    "    probabilities[x,y] = state_counts\n",
    "    probabilities /= nshots\n",
    "    return probabilities"
   ]
  },
  {
   "cell_type": "code",
   "execution_count": 8,
   "metadata": {},
   "outputs": [],
   "source": [
    "def increment_gate(circuit, qpos, qcoin):\n",
    "    n = len(qpos)\n",
    "    for i in range(n):\n",
    "        circuit.mct(qcoin[:]+qpos[i+1:], qpos[i], None, mode='noancilla')\n",
    "\n",
    "def decrement_gate(circuit, qpos, qcoin):\n",
    "    n = len(qpos)\n",
    "    for i in range(n):\n",
    "        if i+1 < n: circuit.x(qpos[i+1:])\n",
    "        circuit.mct(qcoin[:]+qpos[i+1:], qpos[i], None, mode='noancilla')\n",
    "        if i+1 < n: circuit.x(qpos[i+1:])\n",
    "\n",
    "def step(circuit, qpos, qcoin):\n",
    "    circuit.h(qcoin)\n",
    "    circuit.barrier()\n",
    "    # y operations\n",
    "    increment_gate(circuit, qpos[len(qpos)//2:], qcoin)\n",
    "    circuit.x(qcoin[0])\n",
    "    decrement_gate(circuit, qpos[len(qpos)//2:], qcoin)\n",
    "    # x operations\n",
    "    circuit.x(qcoin)\n",
    "    increment_gate(circuit, qpos[:len(qpos)//2], qcoin)\n",
    "    circuit.x(qcoin[0])\n",
    "    decrement_gate(circuit, qpos[:len(qpos)//2:], qcoin)\n",
    "    circuit.barrier()\n",
    "    \n",
    "def initialize_2D(circuit, n, pos):\n",
    "    # convert position to binary\n",
    "    x = \"{:b}\".format(pos[0])\n",
    "    y = \"{:b}\".format(pos[1])\n",
    "    for i in range(len(x)):\n",
    "        if x[i]=='1': circuit.x((n-i)-1)\n",
    "    for j in range(len(y)):\n",
    "        if y[j]=='1': circuit.x((2*n-j)-1)\n",
    "    return circuit\n",
    "    \n",
    "def run(steps):\n",
    "    simulator = Aer.get_backend('qasm_simulator')\n",
    "    qpos = QuantumRegister(2*n,'qc')\n",
    "    qcoin = QuantumRegister(2,'qanc')\n",
    "    cpos = ClassicalRegister(2*n,'cr')\n",
    "    circuit = QuantumCircuit(qpos, qcoin, cpos)\n",
    "    circuit = initialize_2D(circuit, n, (3,3))\n",
    "    for i in range(steps):\n",
    "        step(circuit, qpos, qcoin)\n",
    "    # # Map the quantum measurement to the classical bits\n",
    "    circuit.measure(qpos,cpos)\n",
    "    # # Execute the circuit on the qasm simulator\n",
    "    job = execute(circuit, simulator, shots=1000)\n",
    "    # # Grab results from the job\n",
    "    result = job.result()\n",
    "    # # Returns counts\n",
    "    counts = result.get_counts(circuit)\n",
    "    return counts\n",
    "\n"
   ]
  },
  {
   "cell_type": "code",
   "execution_count": 9,
   "metadata": {},
   "outputs": [],
   "source": [
    "seed = 12\n",
    "random.seed(seed)\n",
    "np.random.seed(seed)\n",
    "def plotSquareGraph(propMat):\n",
    "    colorarray = []\n",
    "    # generate array of colors\n",
    "    numProp = len(propMat)\n",
    "    for idx in range(numProp):\n",
    "        for jdx in range(numProp):\n",
    "            colorarray.append([1-propMat[idx][jdx],1-propMat[idx][jdx],1])\n",
    "    G = nx.grid_2d_graph(numProp, numProp)  # 5x5 grid\n",
    "    # print the adjacency list\n",
    "    for line in nx.generate_adjlist(G):\n",
    "        pass\n",
    "    # write edgelist to grid.edgelist\n",
    "    nx.write_edgelist(G, path=\"grid.edgelist\", delimiter=\":\")\n",
    "    nx.draw(G,node_color = colorarray,cmap=plt.cm.Blues)\n",
    "    plt.plot()"
   ]
  },
  {
   "cell_type": "code",
   "execution_count": 11,
   "metadata": {},
   "outputs": [],
   "source": [
    "for i in range(steps+1):\n",
    "    counts = run(i)\n",
    "    prop = counts_to_prob_2d(counts)\n",
    "    plt.close()\n",
    "    plt.imshow(prop)\n",
    "#     plotSquareGraph(prop)\n",
    "    plt.pause(1/steps)"
   ]
  },
  {
   "cell_type": "code",
   "execution_count": null,
   "metadata": {},
   "outputs": [],
   "source": []
  },
  {
   "cell_type": "code",
   "execution_count": null,
   "metadata": {},
   "outputs": [],
   "source": []
  }
 ],
 "metadata": {
  "kernelspec": {
   "display_name": "Python 3",
   "language": "python",
   "name": "python3"
  },
  "language_info": {
   "codemirror_mode": {
    "name": "ipython",
    "version": 3
   },
   "file_extension": ".py",
   "mimetype": "text/x-python",
   "name": "python",
   "nbconvert_exporter": "python",
   "pygments_lexer": "ipython3",
   "version": "3.6.4"
  }
 },
 "nbformat": 4,
 "nbformat_minor": 2
}
