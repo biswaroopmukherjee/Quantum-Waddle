{
 "cells": [
  {
   "cell_type": "markdown",
   "metadata": {},
   "source": [
    "# Outlook\n",
    "\n",
    "Having demonstrated the 1-D and 2-D case, we are ready to move on to more complicated quantum walks that actually exhibit a quantum speed up. Fortunately [1], has a circuit for implementing a transformed quantum walk problem, but the actual walking for the graph of interest needs to be implemented by a black box function. The paper doesn't illustrate how to implement the actual black box function, so we came up with an algorithmic way to implement any black box function.\n",
    "\n",
    "Once that's done, it's straightforward to include the rest of the quantum gates necessary to implement exponentially sped up quantum walks on arbitrary quantum graphs. One more hack-a-thon should be enough to implement arbitrary quantum walks on a quantum computer!\n",
    "\n",
    "## Implementing Black Box Problems\n",
    "\n",
    "In the notebook, below we provide the code for defining black box functions in the context of [1], black box functions that encode graphs.\n",
    "\n",
    "### Black Box Problems\n",
    "Black box problems are problems where some function is implemented without knowing the details of how it works. The problem is then to determine some characteristic of the black box function. Maybe some particular input that creates a desired output, or determining something about the function that summarizes it, for example like in the Deutsch-Josza algorithm, or Simon's algorithm.\n",
    "\n",
    "[6] E. Bernstein and U. Vazirani. Quantum complexity theory. SIAM J. on Computing, 26:1411–1473, 1997.\n",
    "\n",
    "[10] D. Deutsch. Quantum theory, the Church-Turing principle, and the universal quantum computer. Proc. Roy. Soc. London A, 400:96–117, 1985.\n",
    "\n",
    "[11] D. Deutsch and R. Jozsa. Rapid solution of problems by quantum computation. Proc. Roy. Soc. London A, 439:553–558, 1992.\n",
    "\n",
    "[26] D. Simon. On the power of quantum computation. SIAM J. on Computing, 26:1474–1483, 1997.\n",
    "\n",
    "### Examples of Black Box Functions\n",
    "U |a, b>  = | a, b XOR f(a)>\n",
    "\n",
    "\n",
    "# Citations\n",
    "[1]: A. M. Childs, et al. Exponential Algorithmic Speedup by a Quantum Walk\n",
    "\n",
    "[2]: https://arxiv.org/pdf/0706.0304.pdf"
   ]
  },
  {
   "cell_type": "code",
   "execution_count": 1,
   "metadata": {},
   "outputs": [],
   "source": [
    "# Library for implementing XOR\n",
    "import qiskit\n",
    "import numpy as np\n",
    "from qiskit import(\n",
    "    IBMQ, QuantumCircuit, ClassicalRegister, QuantumRegister, execute,\n",
    "    QuantumCircuit,\n",
    "    execute,\n",
    "    Aer)\n",
    "from qiskit.visualization import plot_histogram, plot_state_city"
   ]
  },
  {
   "cell_type": "code",
   "execution_count": 2,
   "metadata": {},
   "outputs": [],
   "source": [
    "if __name__ == \"__main__\":\n",
    "    pass"
   ]
  },
  {
   "cell_type": "code",
   "execution_count": 3,
   "metadata": {},
   "outputs": [],
   "source": [
    "def binary_it(alpha):\n",
    "    ''' binary_it:\n",
    "            returns a list that is indexed according to power,\n",
    "                binaried[0] = is LSB.\n",
    "    '''\n",
    "    binaried = [int(x) for x in bin(alpha)[2:]]\n",
    "    binaried.reverse()\n",
    "    return binaried\n",
    "\n",
    "def invert(alpha):\n",
    "    return [ 1 - x for x in alpha]"
   ]
  },
  {
   "cell_type": "markdown",
   "metadata": {},
   "source": [
    "# Implementation of Black Box Functions"
   ]
  },
  {
   "cell_type": "code",
   "execution_count": 4,
   "metadata": {},
   "outputs": [],
   "source": [
    "def xor_gate_v_each(circuit,   a,b,r,   v,c,a0):\n",
    "    ''' xor_gate_v_each:\n",
    "            See paper 'An Example of the Difference Between Quantum and Classical Random Walks'\n",
    "        \n",
    "            args:\n",
    "                circuit -- the py object that holds the quantum circuit.\n",
    "                \n",
    "                a -- q. reg. for the vertex.\n",
    "                b -- q. reg. for holding neighbor vertex.\n",
    "                r -- q. reg. for checking valid edge.\n",
    "                \n",
    "                f(c, a0) -- function that returns the neighboring\n",
    "                         -- vertex of a0 using label c for the vertex label.\n",
    "                c        -- label of the edge\n",
    "                a0       -- label of the vertex\n",
    "    '''\n",
    "    \n",
    "    #vc = v(c,a0);\n",
    "    vc = 1\n",
    "    \n",
    "    #build in the not's for the a0 check.\n",
    "    binaried = binary_it(a0)\n",
    "        \n",
    "    #match binaried\n",
    "    if len(binaried) > len(a):\n",
    "        binaried = binaried[:len(a)]\n",
    "    elif len(a) > len(binaried):\n",
    "        for i in range(len(a)-len(binaried)):\n",
    "            binaried.append(0)\n",
    "    \n",
    "    notMask = invert(binaried)\n",
    "    \n",
    "    for i in range(len(notMask)):\n",
    "        if notMask[i]:\n",
    "            circuit.x(a[i]);\n",
    "    \n",
    "    \n",
    "    #build in the cnots for xoring b\n",
    "    binaried = binary_it(vc)\n",
    "        \n",
    "    #match binaried\n",
    "    if len(binaried) > len(a):\n",
    "        binaried = binaried[:len(a)]\n",
    "    elif len(a) > len(binaried):\n",
    "        for i in range(len(a)-len(binaried)):\n",
    "            binaried.append(0)\n",
    "    \n",
    "    for i in range(len(binaried)):\n",
    "        if binaried[i]:\n",
    "            circuit.mct(a,b[i], None, mode='noancilla')\n",
    "        \n",
    "    #build in the not's for the a0 return.\n",
    "    for i in range(len(notMask)):\n",
    "        if notMask[i]:\n",
    "            circuit.x(a[i]);"
   ]
  },
  {
   "cell_type": "code",
   "execution_count": 5,
   "metadata": {},
   "outputs": [],
   "source": [
    "def xor_gate_f_each(circuit,   a,b,r,   v,c,a0):\n",
    "    ''' xor_gate_v_each:\n",
    "            See paper 'An Example of the Difference Between Quantum and Classical Random Walks'\n",
    "        \n",
    "            args:\n",
    "                circuit -- the py object that holds the quantum circuit.\n",
    "                \n",
    "                a -- q. reg. for the vertex.\n",
    "                b -- q. reg. for holding neighbor vertex.\n",
    "                r -- q. reg. for checking valid edge.\n",
    "                \n",
    "                f(c, a0) -- function that returns the neighboring\n",
    "                         -- vertex of a0 using label c for the vertex label.\n",
    "                c        -- label of the edge\n",
    "                a0       -- label of the vertex\n",
    "    '''\n",
    "    \n",
    "    #fc = f(c,a0);\n",
    "    fc = 1\n",
    "    \n",
    "    #build in the not's for the a0 check.\n",
    "    binaried = binary_it(a0)\n",
    "        \n",
    "    #match binaried\n",
    "    if len(binaried) > len(a):\n",
    "        binaried = binaried[:len(a)]\n",
    "    elif len(a) > len(binaried):\n",
    "        for i in range(len(a)-len(binaried)):\n",
    "            binaried.append(0)\n",
    "    \n",
    "    notMask = invert(binaried)\n",
    "    \n",
    "    for i in range(len(notMask)):\n",
    "        if notMask[i]:\n",
    "            circuit.x(a[i]);\n",
    "    \n",
    "    \n",
    "    #build in the cnots for xoring b\n",
    "    binaried = binary_it(fc)\n",
    "        \n",
    "    #match binaried\n",
    "    if len(binaried) > len(r):\n",
    "        binaried = binaried[:len(r)]\n",
    "    elif len(r) > len(binaried):\n",
    "        for i in range(len(r)-len(binaried)):\n",
    "            binaried.append(0)\n",
    "    \n",
    "    for i in range(len(binaried)):\n",
    "        if binaried[i]:\n",
    "            circuit.mct(a,r[i], None, mode='noancilla')\n",
    "        \n",
    "    #build in the not's for the a0 return.\n",
    "    for i in range(len(notMask)):\n",
    "        if notMask[i]:\n",
    "            circuit.x(a[i]);"
   ]
  },
  {
   "cell_type": "markdown",
   "metadata": {},
   "source": [
    "# Black Box Algorithm\n",
    "\n",
    "We demonstrate the idea by implementing two function calls in the image below.\n",
    "Prior to the first barrier we implement, the output b xor 1, if and only if a = 1.\n",
    "\n",
    "Past the barrier, we implement r xor 1 if and only if a = 2."
   ]
  },
  {
   "cell_type": "code",
   "execution_count": 12,
   "metadata": {},
   "outputs": [
    {
     "data": {
      "text/html": [
       "<pre style=\"word-wrap: normal;white-space: pre;background: #fff0;line-height: 1.1;font-family: &quot;Courier New&quot;,Courier,monospace\">                        ░ ┌───┐     ┌───┐\n",
       "a_0: |0>───────■────────░─┤ X ├──■──┤ X ├\n",
       "        ┌───┐  │  ┌───┐ ░ └───┘  │  └───┘\n",
       "a_1: |0>┤ X ├──■──┤ X ├─░────────■───────\n",
       "        └───┘┌─┴─┐└───┘ ░        │       \n",
       "b_0: |0>─────┤ X ├──────░────────┼───────\n",
       "             └───┘      ░        │       \n",
       "b_1: |0>────────────────░────────┼───────\n",
       "                        ░      ┌─┴─┐     \n",
       "r_0: |0>────────────────░──────┤ X ├─────\n",
       "                        ░      └───┘     </pre>"
      ],
      "text/plain": [
       "<qiskit.visualization.text.TextDrawing at 0x1a15a6d790>"
      ]
     },
     "execution_count": 12,
     "metadata": {},
     "output_type": "execute_result"
    }
   ],
   "source": [
    "n = 2\n",
    "\n",
    "simulator = Aer.get_backend('qasm_simulator')\n",
    "\n",
    "a = QuantumRegister(n, 'a')\n",
    "b = QuantumRegister(n, 'b')\n",
    "r = QuantumRegister(1, 'r')\n",
    "\n",
    "circuit = QuantumCircuit(a, b, r)\n",
    "\n",
    "a0 = 1\n",
    "xor_gate_v_each(circuit, a,b,r, 0,0,a0)\n",
    "circuit.barrier()\n",
    "a0 = 2\n",
    "xor_gate_f_each(circuit, a,b,r, 0,0,a0)\n",
    "circuit.draw()"
   ]
  },
  {
   "cell_type": "markdown",
   "metadata": {},
   "source": [
    "# Implementing the Quantum Walk\n",
    "\n",
    "The transformed quantum walk circuit requires only simple 2 qubit gates, CNOTs, and a controlled phase gate.\n",
    "\n",
    "Combining these two features, in the future, we would like to implement the full quantum walk algorithm on arbitrary graphs."
   ]
  },
  {
   "cell_type": "code",
   "execution_count": null,
   "metadata": {},
   "outputs": [],
   "source": []
  }
 ],
 "metadata": {
  "kernelspec": {
   "display_name": "Python 3",
   "language": "python",
   "name": "python3"
  },
  "language_info": {
   "codemirror_mode": {
    "name": "ipython",
    "version": 3
   },
   "file_extension": ".py",
   "mimetype": "text/x-python",
   "name": "python",
   "nbconvert_exporter": "python",
   "pygments_lexer": "ipython3",
   "version": "3.7.4"
  }
 },
 "nbformat": 4,
 "nbformat_minor": 2
}
